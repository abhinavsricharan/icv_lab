{
 "cells": [
  {
   "cell_type": "code",
   "execution_count": 2,
   "id": "cf9fdf75-bf97-4be4-8b34-beec731bb8b2",
   "metadata": {},
   "outputs": [],
   "source": [
    "import cv2\n",
    "import numpy as np"
   ]
  },
  {
   "cell_type": "code",
   "execution_count": 4,
   "id": "eff68c42-62cd-4b07-8ee1-ab52eeb0b50d",
   "metadata": {},
   "outputs": [],
   "source": [
    "ia = np.arange(0, 90000, 1, np.uint8)\n",
    "i = np.reshape(ia, (300, 300))\n",
    "h, w = i.shape"
   ]
  },
  {
   "cell_type": "code",
   "execution_count": 5,
   "id": "437792b5-cc53-4cf9-a996-886d2238d880",
   "metadata": {},
   "outputs": [],
   "source": [
    "i[:, :] = 0\n",
    "i[20:250, 50:100] = 255"
   ]
  },
  {
   "cell_type": "code",
   "execution_count": 8,
   "id": "2ebba091-014f-4669-b0b1-abe0915f233d",
   "metadata": {},
   "outputs": [],
   "source": [
    "i[50:90, 100:160] = 255\n",
    "i[210:250, 100:160] = 255\n",
    "i[130:170, 100:160] = 255"
   ]
  },
  {
   "cell_type": "code",
   "execution_count": 9,
   "id": "86c4189e-b37d-4821-b808-5f5134d084c8",
   "metadata": {},
   "outputs": [],
   "source": [
    "i[70:140, 160:210] = 255\n",
    "i[160:230, 160:210] = 255"
   ]
  },
  {
   "cell_type": "code",
   "execution_count": null,
   "id": "28cbcd34-02fe-4b2f-b72a-a4ea32d2b0d8",
   "metadata": {},
   "outputs": [],
   "source": [
    "cv2.imshow('Letter B', i)\n",
    "cv2.waitKey(0)\n",
    "cv2.destroyAllWindows()"
   ]
  }
 ],
 "metadata": {
  "kernelspec": {
   "display_name": "Python 3 (ipykernel)",
   "language": "python",
   "name": "python3"
  },
  "language_info": {
   "codemirror_mode": {
    "name": "ipython",
    "version": 3
   },
   "file_extension": ".py",
   "mimetype": "text/x-python",
   "name": "python",
   "nbconvert_exporter": "python",
   "pygments_lexer": "ipython3",
   "version": "3.11.7"
  }
 },
 "nbformat": 4,
 "nbformat_minor": 5
}
