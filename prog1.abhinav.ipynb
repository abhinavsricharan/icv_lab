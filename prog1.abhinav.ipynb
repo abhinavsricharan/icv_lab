{
 "cells": [
  {
   "cell_type": "code",
   "execution_count": null,
   "id": "3507993f-76de-4608-8b5b-83911c8a6605",
   "metadata": {},
   "outputs": [],
   "source": [
    "pip install opencv.python"
   ]
  },
  {
   "cell_type": "code",
   "execution_count": 1,
   "id": "f120eb56-aacc-4a58-93b1-cb74801d6405",
   "metadata": {},
   "outputs": [],
   "source": [
    "import cv2\n",
    "import numpy as np\n"
   ]
  },
  {
   "cell_type": "code",
   "execution_count": 2,
   "id": "a56a1e02-7fdf-42be-97e3-ccacf47cc623",
   "metadata": {},
   "outputs": [],
   "source": [
    "board_size=8\n",
    "square_size=50\n",
    "board=np.zeros((board_size,board_size,3),dtype=np.uint8)"
   ]
  },
  {
   "cell_type": "code",
   "execution_count": null,
   "id": "9ec9a798-3ad6-41f6-b881-a9281c29567d",
   "metadata": {},
   "outputs": [],
   "source": [
    "for i in range(board_size):\n",
    "    for j in range (board_size):\n",
    "        if(i+j)%2==0:\n",
    "            board[i,j]=[255,255,255]\n",
    "        else:\n",
    "            board[i,j]=[0,0,0]"
   ]
  },
  {
   "cell_type": "code",
   "execution_count": null,
   "id": "e0dbe5a6-fa7c-4bd0-9102-8360dc2c6b04",
   "metadata": {},
   "outputs": [],
   "source": [
    "board_large=cv2.resize(board,(board_size*square_size,board_size*square_size),interpolation=cv2.INTER_NEAREST)"
   ]
  },
  {
   "cell_type": "code",
   "execution_count": null,
   "id": "b34f8a19-ae6c-4407-8520-bff1fb3a10b4",
   "metadata": {},
   "outputs": [],
   "source": [
    "cv2.imshow(\"chessboard\",board_large)\n"
   ]
  },
  {
   "cell_type": "code",
   "execution_count": null,
   "id": "44c428d9-eaf0-4f6c-b17a-c21c027ce134",
   "metadata": {},
   "outputs": [],
   "source": [
    "cv2.waitKey(0)\n",
    "cv2.destroyAllWindows"
   ]
  },
  {
   "cell_type": "code",
   "execution_count": null,
   "id": "3001ac00-c230-4acf-bb48-9eba3048ef6f",
   "metadata": {},
   "outputs": [],
   "source": []
  }
 ],
 "metadata": {
  "kernelspec": {
   "display_name": "Python 3 (ipykernel)",
   "language": "python",
   "name": "python3"
  },
  "language_info": {
   "codemirror_mode": {
    "name": "ipython",
    "version": 3
   },
   "file_extension": ".py",
   "mimetype": "text/x-python",
   "name": "python",
   "nbconvert_exporter": "python",
   "pygments_lexer": "ipython3",
   "version": "3.11.7"
  }
 },
 "nbformat": 4,
 "nbformat_minor": 5
}
